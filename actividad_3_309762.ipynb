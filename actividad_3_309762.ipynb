{
  "nbformat": 4,
  "nbformat_minor": 0,
  "metadata": {
    "colab": {
      "provenance": [],
      "authorship_tag": "ABX9TyNakfdjlhUMtvkiqOI8Aymp",
      "include_colab_link": true
    },
    "kernelspec": {
      "name": "python3",
      "display_name": "Python 3"
    },
    "language_info": {
      "name": "python"
    }
  },
  "cells": [
    {
      "cell_type": "markdown",
      "metadata": {
        "id": "view-in-github",
        "colab_type": "text"
      },
      "source": [
        "<a href=\"https://colab.research.google.com/github/Zerberuz/Parcial/blob/main/actividad_3_309762.ipynb\" target=\"_parent\"><img src=\"https://colab.research.google.com/assets/colab-badge.svg\" alt=\"Open In Colab\"/></a>"
      ]
    },
    {
      "cell_type": "markdown",
      "source": [
        "## Actividad Evaluativa 3\n",
        "\n",
        " Fecha: 22 de marzo de 2024\n",
        "\n",
        " Presentado por: Camilo Ernesto Calderin Ogaza\n",
        "\n",
        " Email: camilo.calderino@upb.edu.co"
      ],
      "metadata": {
        "id": "cigPXQUqd2Bs"
      }
    },
    {
      "cell_type": "code",
      "execution_count": 3,
      "metadata": {
        "colab": {
          "base_uri": "https://localhost:8080/"
        },
        "id": "prBfsUX-C-7-",
        "outputId": "179b153f-a97b-4475-b436-ac638e83192e"
      },
      "outputs": [
        {
          "output_type": "stream",
          "name": "stdout",
          "text": [
            "Programa para saber si una señal pasa el filtro\n",
            "Ingrese la frecuencia de la señal: 843\n",
            "La señal pasa el filtro.\n"
          ]
        }
      ],
      "source": [
        "import math\n",
        "print(\"Programa para saber si una señal pasa el filtro\")\n",
        "media = 1000\n",
        "desviacion = 300\n",
        "umbral = 0.3\n",
        "frecuencia = float(input('Ingrese la frecuencia de la señal: '))\n",
        "prob_acumulada = 0\n",
        "for f in range(int(frecuencia) + 1):\n",
        "    resultado = math.exp(-0.5 * ((f - media) / desviacion) ** 2) / (desviacion * math.sqrt(2 * math.pi))\n",
        "    prob_acumulada += resultado\n",
        "if prob_acumulada > umbral:\n",
        "    print('La señal pasa el filtro.')\n",
        "else:\n",
        "    print('La señal es bloqueada por el filtro.')ah"
      ]
    }
  ]
}